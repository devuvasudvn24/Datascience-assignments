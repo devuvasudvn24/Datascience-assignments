{
  "nbformat": 4,
  "nbformat_minor": 0,
  "metadata": {
    "colab": {
      "provenance": [],
      "include_colab_link": true
    },
    "kernelspec": {
      "name": "python3",
      "display_name": "Python 3"
    },
    "language_info": {
      "name": "python"
    }
  },
  "cells": [
    {
      "cell_type": "markdown",
      "metadata": {
        "id": "view-in-github",
        "colab_type": "text"
      },
      "source": [
        "<a href=\"https://colab.research.google.com/github/devuvasudvn24/Datascience-assignments/blob/main/Copy_of_Pandas_Tasks_adult_data.ipynb\" target=\"_parent\"><img src=\"https://colab.research.google.com/assets/colab-badge.svg\" alt=\"Open In Colab\"/></a>"
      ]
    },
    {
      "cell_type": "code",
      "execution_count": null,
      "metadata": {
        "id": "JkDcsOfDRC5o"
      },
      "outputs": [],
      "source": [
        "import pandas as pd\n",
        "import numpy as np"
      ]
    },
    {
      "cell_type": "markdown",
      "source": [
        "read the data"
      ],
      "metadata": {
        "id": "oeZnLikWRDs_"
      }
    },
    {
      "cell_type": "code",
      "source": [
        "df = pd.read_csv('/content/adult.csv')"
      ],
      "metadata": {
        "id": "f6v3MFa-RF5i"
      },
      "execution_count": null,
      "outputs": []
    },
    {
      "cell_type": "markdown",
      "source": [
        "Display the first 5 rows of the dataset."
      ],
      "metadata": {
        "id": "M0eR7nLZRGeT"
      }
    },
    {
      "cell_type": "code",
      "source": [
        "df = pd.read_csv('/content/adult.csv')\n",
        "print(df.head())\n"
      ],
      "metadata": {
        "id": "hnbbT3PpRHri",
        "outputId": "e231653a-6997-468c-de2d-a5a6e91ae285",
        "colab": {
          "base_uri": "https://localhost:8080/"
        }
      },
      "execution_count": null,
      "outputs": [
        {
          "output_type": "stream",
          "name": "stdout",
          "text": [
            "   age  workclass  fnlwgt     education  educational-num      marital-status  \\\n",
            "0   25    Private  226802          11th                7       Never-married   \n",
            "1   38    Private   89814       HS-grad                9  Married-civ-spouse   \n",
            "2   28  Local-gov  336951    Assoc-acdm               12  Married-civ-spouse   \n",
            "3   44    Private  160323  Some-college               10  Married-civ-spouse   \n",
            "4   18          ?  103497  Some-college               10       Never-married   \n",
            "\n",
            "          occupation relationship   race  gender  capital-gain  capital-loss  \\\n",
            "0  Machine-op-inspct    Own-child  Black    Male             0             0   \n",
            "1    Farming-fishing      Husband  White    Male             0             0   \n",
            "2    Protective-serv      Husband  White    Male             0             0   \n",
            "3  Machine-op-inspct      Husband  Black    Male          7688             0   \n",
            "4                  ?    Own-child  White  Female             0             0   \n",
            "\n",
            "   hours-per-week native-country income  \n",
            "0              40  United-States  <=50K  \n",
            "1              50  United-States  <=50K  \n",
            "2              40  United-States   >50K  \n",
            "3              40  United-States   >50K  \n",
            "4              30  United-States  <=50K  \n"
          ]
        }
      ]
    },
    {
      "cell_type": "markdown",
      "source": [
        "summary of the DataFrame"
      ],
      "metadata": {
        "id": "asqYVwG_RIBb"
      }
    },
    {
      "cell_type": "code",
      "source": [
        "df = pd.read_csv('/content/adult.csv')\n",
        "df.info()"
      ],
      "metadata": {
        "id": "cUkEutZLRMia",
        "outputId": "24c889c7-0b8c-409a-b6f7-d2a68c55858c",
        "colab": {
          "base_uri": "https://localhost:8080/"
        }
      },
      "execution_count": null,
      "outputs": [
        {
          "output_type": "stream",
          "name": "stdout",
          "text": [
            "<class 'pandas.core.frame.DataFrame'>\n",
            "RangeIndex: 48842 entries, 0 to 48841\n",
            "Data columns (total 15 columns):\n",
            " #   Column           Non-Null Count  Dtype \n",
            "---  ------           --------------  ----- \n",
            " 0   age              48842 non-null  int64 \n",
            " 1   workclass        48842 non-null  object\n",
            " 2   fnlwgt           48842 non-null  int64 \n",
            " 3   education        48842 non-null  object\n",
            " 4   educational-num  48842 non-null  int64 \n",
            " 5   marital-status   48842 non-null  object\n",
            " 6   occupation       48842 non-null  object\n",
            " 7   relationship     48842 non-null  object\n",
            " 8   race             48842 non-null  object\n",
            " 9   gender           48842 non-null  object\n",
            " 10  capital-gain     48842 non-null  int64 \n",
            " 11  capital-loss     48842 non-null  int64 \n",
            " 12  hours-per-week   48842 non-null  int64 \n",
            " 13  native-country   48842 non-null  object\n",
            " 14  income           48842 non-null  object\n",
            "dtypes: int64(6), object(9)\n",
            "memory usage: 5.6+ MB\n"
          ]
        }
      ]
    },
    {
      "cell_type": "markdown",
      "source": [
        "descriptive statistics for numeric columns"
      ],
      "metadata": {
        "id": "owO_78hGRPYK"
      }
    },
    {
      "cell_type": "code",
      "source": [
        "desc_stats = df.describe()\n",
        "print(desc_stats)"
      ],
      "metadata": {
        "id": "egJOKtYGRQIW",
        "outputId": "b5e0c4e8-110a-4a52-e863-019927ef9023",
        "colab": {
          "base_uri": "https://localhost:8080/"
        }
      },
      "execution_count": null,
      "outputs": [
        {
          "output_type": "stream",
          "name": "stdout",
          "text": [
            "                age        fnlwgt  educational-num  capital-gain  \\\n",
            "count  48842.000000  4.884200e+04     48842.000000  48842.000000   \n",
            "mean      38.643585  1.896641e+05        10.078089   1079.067626   \n",
            "std       13.710510  1.056040e+05         2.570973   7452.019058   \n",
            "min       17.000000  1.228500e+04         1.000000      0.000000   \n",
            "25%       28.000000  1.175505e+05         9.000000      0.000000   \n",
            "50%       37.000000  1.781445e+05        10.000000      0.000000   \n",
            "75%       48.000000  2.376420e+05        12.000000      0.000000   \n",
            "max       90.000000  1.490400e+06        16.000000  99999.000000   \n",
            "\n",
            "       capital-loss  hours-per-week  \n",
            "count  48842.000000    48842.000000  \n",
            "mean      87.502314       40.422382  \n",
            "std      403.004552       12.391444  \n",
            "min        0.000000        1.000000  \n",
            "25%        0.000000       40.000000  \n",
            "50%        0.000000       40.000000  \n",
            "75%        0.000000       45.000000  \n",
            "max     4356.000000       99.000000  \n"
          ]
        }
      ]
    },
    {
      "cell_type": "markdown",
      "source": [
        "Display the column names of the DataFrame."
      ],
      "metadata": {
        "id": "3gcgaLEfRSjj"
      }
    },
    {
      "cell_type": "code",
      "source": [
        "print(df.columns)"
      ],
      "metadata": {
        "id": "T5xzlLqtRTYT",
        "outputId": "8b30446a-293a-4614-c4e9-4582c0481991",
        "colab": {
          "base_uri": "https://localhost:8080/"
        }
      },
      "execution_count": null,
      "outputs": [
        {
          "output_type": "stream",
          "name": "stdout",
          "text": [
            "Index(['age', 'workclass', 'fnlwgt', 'education', 'educational-num',\n",
            "       'marital-status', 'occupation', 'relationship', 'race', 'gender',\n",
            "       'capital-gain', 'capital-loss', 'hours-per-week', 'native-country',\n",
            "       'income'],\n",
            "      dtype='object')\n"
          ]
        }
      ]
    },
    {
      "cell_type": "markdown",
      "source": [
        "unique values in the 'workclass' column."
      ],
      "metadata": {
        "id": "r-w_MuEvRVyk"
      }
    },
    {
      "cell_type": "code",
      "source": [
        "print(df['workclass'].unique())"
      ],
      "metadata": {
        "id": "GE2XirkjRXAc",
        "outputId": "6621c0ae-b99b-4898-91ff-99a2005a3b2b",
        "colab": {
          "base_uri": "https://localhost:8080/"
        }
      },
      "execution_count": null,
      "outputs": [
        {
          "output_type": "stream",
          "name": "stdout",
          "text": [
            "['Private' 'Local-gov' '?' 'Self-emp-not-inc' 'Federal-gov' 'State-gov'\n",
            " 'Self-emp-inc' 'Without-pay' 'Never-worked']\n"
          ]
        }
      ]
    },
    {
      "cell_type": "markdown",
      "source": [
        "Create a new column 'income_binary' where <=50K is 0 and >50K is 1."
      ],
      "metadata": {
        "id": "9lA9RnDCRZYf"
      }
    },
    {
      "cell_type": "code",
      "source": [
        "df['income_binary']=df['income'].apply(lambda x: 1 if x == '>50K' else 0)\n",
        "print(df.head())"
      ],
      "metadata": {
        "id": "tcSb1bMLRchy",
        "outputId": "89fe12b5-ac08-4c2d-ac47-e40ca29a7fec",
        "colab": {
          "base_uri": "https://localhost:8080/"
        }
      },
      "execution_count": null,
      "outputs": [
        {
          "output_type": "stream",
          "name": "stdout",
          "text": [
            "   age  workclass  fnlwgt     education  educational-num      marital-status  \\\n",
            "0   25    Private  226802          11th                7       Never-married   \n",
            "1   38    Private   89814       HS-grad                9  Married-civ-spouse   \n",
            "2   28  Local-gov  336951    Assoc-acdm               12  Married-civ-spouse   \n",
            "3   44    Private  160323  Some-college               10  Married-civ-spouse   \n",
            "4   18          ?  103497  Some-college               10       Never-married   \n",
            "\n",
            "          occupation relationship   race  gender  capital-gain  capital-loss  \\\n",
            "0  Machine-op-inspct    Own-child  Black    Male             0             0   \n",
            "1    Farming-fishing      Husband  White    Male             0             0   \n",
            "2    Protective-serv      Husband  White    Male             0             0   \n",
            "3  Machine-op-inspct      Husband  Black    Male          7688             0   \n",
            "4                  ?    Own-child  White  Female             0             0   \n",
            "\n",
            "   hours-per-week native-country income  income_binary  \n",
            "0              40  United-States  <=50K              0  \n",
            "1              50  United-States  <=50K              0  \n",
            "2              40  United-States   >50K              1  \n",
            "3              40  United-States   >50K              1  \n",
            "4              30  United-States  <=50K              0  \n"
          ]
        }
      ]
    },
    {
      "cell_type": "markdown",
      "source": [
        "Create a new column 'age_group' categorizing ages into 'Youth' (< 30), 'Adult' (30-60), and 'Senior' (60+)."
      ],
      "metadata": {
        "id": "OHGJMko4Rc8r"
      }
    },
    {
      "cell_type": "code",
      "source": [
        "\n",
        "df['age_group'] = df['age'].apply(lambda x: 'Youth' if x < 30 else 'Adult' if x <= 60 else 'Senior')\n",
        "print(df.head())"
      ],
      "metadata": {
        "id": "e3Jb3Cr0ReFT",
        "outputId": "91be3bf2-c545-4c22-8115-e749eca00e3d",
        "colab": {
          "base_uri": "https://localhost:8080/"
        }
      },
      "execution_count": null,
      "outputs": [
        {
          "output_type": "stream",
          "name": "stdout",
          "text": [
            "   age  workclass  fnlwgt     education  educational-num      marital-status  \\\n",
            "0   25    Private  226802          11th                7       Never-married   \n",
            "1   38    Private   89814       HS-grad                9  Married-civ-spouse   \n",
            "2   28  Local-gov  336951    Assoc-acdm               12  Married-civ-spouse   \n",
            "3   44    Private  160323  Some-college               10  Married-civ-spouse   \n",
            "4   18          ?  103497  Some-college               10       Never-married   \n",
            "\n",
            "          occupation relationship   race  gender  capital-gain  capital-loss  \\\n",
            "0  Machine-op-inspct    Own-child  Black    Male             0             0   \n",
            "1    Farming-fishing      Husband  White    Male             0             0   \n",
            "2    Protective-serv      Husband  White    Male             0             0   \n",
            "3  Machine-op-inspct      Husband  Black    Male          7688             0   \n",
            "4                  ?    Own-child  White  Female             0             0   \n",
            "\n",
            "   hours-per-week native-country income  income_binary age_group  \n",
            "0              40  United-States  <=50K              0     Youth  \n",
            "1              50  United-States  <=50K              0     Adult  \n",
            "2              40  United-States   >50K              1     Youth  \n",
            "3              40  United-States   >50K              1     Adult  \n",
            "4              30  United-States  <=50K              0     Youth  \n"
          ]
        }
      ]
    },
    {
      "cell_type": "markdown",
      "source": [
        "Rename the 'educational-num' column to 'education_num'."
      ],
      "metadata": {
        "id": "lQE44AW5Ref1"
      }
    },
    {
      "cell_type": "code",
      "source": [
        "df.rename(columns={'educational-num': 'education_num'}, inplace=True)\n",
        "print(df)"
      ],
      "metadata": {
        "id": "jW0Ml7yCRkhm",
        "outputId": "cf7fd695-6aa5-4ae7-b601-27a46ba6129b",
        "colab": {
          "base_uri": "https://localhost:8080/"
        }
      },
      "execution_count": null,
      "outputs": [
        {
          "output_type": "stream",
          "name": "stdout",
          "text": [
            "       age     workclass  fnlwgt     education  education_num  \\\n",
            "0       25       Private  226802          11th              7   \n",
            "1       38       Private   89814       HS-grad              9   \n",
            "2       28     Local-gov  336951    Assoc-acdm             12   \n",
            "3       44       Private  160323  Some-college             10   \n",
            "4       18             ?  103497  Some-college             10   \n",
            "...    ...           ...     ...           ...            ...   \n",
            "48837   27       Private  257302    Assoc-acdm             12   \n",
            "48838   40       Private  154374       HS-grad              9   \n",
            "48839   58       Private  151910       HS-grad              9   \n",
            "48840   22       Private  201490       HS-grad              9   \n",
            "48841   52  Self-emp-inc  287927       HS-grad              9   \n",
            "\n",
            "           marital-status         occupation relationship   race  gender  \\\n",
            "0           Never-married  Machine-op-inspct    Own-child  Black    Male   \n",
            "1      Married-civ-spouse    Farming-fishing      Husband  White    Male   \n",
            "2      Married-civ-spouse    Protective-serv      Husband  White    Male   \n",
            "3      Married-civ-spouse  Machine-op-inspct      Husband  Black    Male   \n",
            "4           Never-married                  ?    Own-child  White  Female   \n",
            "...                   ...                ...          ...    ...     ...   \n",
            "48837  Married-civ-spouse       Tech-support         Wife  White  Female   \n",
            "48838  Married-civ-spouse  Machine-op-inspct      Husband  White    Male   \n",
            "48839             Widowed       Adm-clerical    Unmarried  White  Female   \n",
            "48840       Never-married       Adm-clerical    Own-child  White    Male   \n",
            "48841  Married-civ-spouse    Exec-managerial         Wife  White  Female   \n",
            "\n",
            "       capital-gain  capital-loss  hours-per-week native-country income  \\\n",
            "0                 0             0              40  United-States  <=50K   \n",
            "1                 0             0              50  United-States  <=50K   \n",
            "2                 0             0              40  United-States   >50K   \n",
            "3              7688             0              40  United-States   >50K   \n",
            "4                 0             0              30  United-States  <=50K   \n",
            "...             ...           ...             ...            ...    ...   \n",
            "48837             0             0              38  United-States  <=50K   \n",
            "48838             0             0              40  United-States   >50K   \n",
            "48839             0             0              40  United-States  <=50K   \n",
            "48840             0             0              20  United-States  <=50K   \n",
            "48841         15024             0              40  United-States   >50K   \n",
            "\n",
            "       income_binary age_group  \n",
            "0                  0     Youth  \n",
            "1                  0     Adult  \n",
            "2                  1     Youth  \n",
            "3                  1     Adult  \n",
            "4                  0     Youth  \n",
            "...              ...       ...  \n",
            "48837              0     Youth  \n",
            "48838              1     Adult  \n",
            "48839              0     Adult  \n",
            "48840              0     Youth  \n",
            "48841              1     Adult  \n",
            "\n",
            "[48842 rows x 17 columns]\n"
          ]
        }
      ]
    },
    {
      "cell_type": "markdown",
      "source": [
        "Replace the missing values represented by '?' in 'workclass' and 'occupation' columns with 'Unknown'."
      ],
      "metadata": {
        "id": "QZnM8h18Rk2m"
      }
    },
    {
      "cell_type": "code",
      "source": [
        "df['workclass'] = df['workclass'].replace('?', 'Unknown')\n",
        "df['occupation'] = df['occupation'].replace('?', 'Unknown')\n",
        "print(df)"
      ],
      "metadata": {
        "id": "FjI56EPMh3UM",
        "outputId": "267acb7f-7e47-4a8c-d655-bea396234241",
        "colab": {
          "base_uri": "https://localhost:8080/"
        }
      },
      "execution_count": null,
      "outputs": [
        {
          "output_type": "stream",
          "name": "stdout",
          "text": [
            "       age     workclass  fnlwgt     education  education_num  \\\n",
            "0       25       Private  226802          11th              7   \n",
            "1       38       Private   89814       HS-grad              9   \n",
            "2       28     Local-gov  336951    Assoc-acdm             12   \n",
            "3       44       Private  160323  Some-college             10   \n",
            "4       18       Unknown  103497  Some-college             10   \n",
            "...    ...           ...     ...           ...            ...   \n",
            "48837   27       Private  257302    Assoc-acdm             12   \n",
            "48838   40       Private  154374       HS-grad              9   \n",
            "48839   58       Private  151910       HS-grad              9   \n",
            "48840   22       Private  201490       HS-grad              9   \n",
            "48841   52  Self-emp-inc  287927       HS-grad              9   \n",
            "\n",
            "           marital-status         occupation relationship   race  gender  \\\n",
            "0           Never-married  Machine-op-inspct    Own-child  Black    Male   \n",
            "1      Married-civ-spouse    Farming-fishing      Husband  White    Male   \n",
            "2      Married-civ-spouse    Protective-serv      Husband  White    Male   \n",
            "3      Married-civ-spouse  Machine-op-inspct      Husband  Black    Male   \n",
            "4           Never-married            Unknown    Own-child  White  Female   \n",
            "...                   ...                ...          ...    ...     ...   \n",
            "48837  Married-civ-spouse       Tech-support         Wife  White  Female   \n",
            "48838  Married-civ-spouse  Machine-op-inspct      Husband  White    Male   \n",
            "48839             Widowed       Adm-clerical    Unmarried  White  Female   \n",
            "48840       Never-married       Adm-clerical    Own-child  White    Male   \n",
            "48841  Married-civ-spouse    Exec-managerial         Wife  White  Female   \n",
            "\n",
            "       capital-gain  capital-loss  hours-per-week native-country income  \\\n",
            "0                 0             0              40  United-States  <=50K   \n",
            "1                 0             0              50  United-States  <=50K   \n",
            "2                 0             0              40  United-States   >50K   \n",
            "3              7688             0              40  United-States   >50K   \n",
            "4                 0             0              30  United-States  <=50K   \n",
            "...             ...           ...             ...            ...    ...   \n",
            "48837             0             0              38  United-States  <=50K   \n",
            "48838             0             0              40  United-States   >50K   \n",
            "48839             0             0              40  United-States  <=50K   \n",
            "48840             0             0              20  United-States  <=50K   \n",
            "48841         15024             0              40  United-States   >50K   \n",
            "\n",
            "       income_binary age_group  \n",
            "0                  0     Youth  \n",
            "1                  0     Adult  \n",
            "2                  1     Youth  \n",
            "3                  1     Adult  \n",
            "4                  0     Youth  \n",
            "...              ...       ...  \n",
            "48837              0     Youth  \n",
            "48838              1     Adult  \n",
            "48839              0     Adult  \n",
            "48840              0     Youth  \n",
            "48841              1     Adult  \n",
            "\n",
            "[48842 rows x 17 columns]\n"
          ]
        }
      ]
    },
    {
      "cell_type": "code",
      "source": [
        "#Calculate the average age for each workclass.\n",
        "\n",
        "average_age_per_workclass = df.groupby('workclass')['age'].mean()\n",
        "print(average_age_per_workclass)"
      ],
      "metadata": {
        "id": "LXB0QuTdRixM",
        "outputId": "1ea69822-ff6b-492a-8678-3bc968ae0ab7",
        "colab": {
          "base_uri": "https://localhost:8080/"
        }
      },
      "execution_count": null,
      "outputs": [
        {
          "output_type": "stream",
          "name": "stdout",
          "text": [
            "workclass\n",
            "Federal-gov         42.577514\n",
            "Local-gov           41.676020\n",
            "Never-worked        19.900000\n",
            "Private             36.903144\n",
            "Self-emp-inc        45.799410\n",
            "Self-emp-not-inc    45.332470\n",
            "State-gov           39.512367\n",
            "Unknown             40.141122\n",
            "Without-pay         47.285714\n",
            "Name: age, dtype: float64\n"
          ]
        }
      ]
    },
    {
      "cell_type": "markdown",
      "source": [
        "Find the total capital-gain for each gender."
      ],
      "metadata": {
        "id": "RI77BsjkRxaj"
      }
    },
    {
      "cell_type": "code",
      "source": [
        "total_capital_gain_per_gender = df.groupby('gender')['capital-gain'].sum()\n",
        "\n",
        "print(total_capital_gain_per_gender)"
      ],
      "metadata": {
        "id": "OMykaJ26Rvdz",
        "outputId": "d989911c-c0b0-42f9-d607-f4c98ba5efdd",
        "colab": {
          "base_uri": "https://localhost:8080/"
        }
      },
      "execution_count": null,
      "outputs": [
        {
          "output_type": "stream",
          "name": "stdout",
          "text": [
            "gender\n",
            "Female     9403120\n",
            "Male      43300701\n",
            "Name: capital-gain, dtype: int64\n"
          ]
        }
      ]
    },
    {
      "cell_type": "markdown",
      "source": [
        "Get the count of each marital-status category."
      ],
      "metadata": {
        "id": "nRIhYKEURrLO"
      }
    },
    {
      "cell_type": "code",
      "source": [
        "\n",
        "marital_status_counts = df['marital-status'].value_counts()\n",
        "\n",
        "print(marital_status_counts)"
      ],
      "metadata": {
        "id": "Fy6MdoLLR1sw",
        "outputId": "ec7aa6f9-df98-4329-ed6d-fa5c0dfca485",
        "colab": {
          "base_uri": "https://localhost:8080/"
        }
      },
      "execution_count": null,
      "outputs": [
        {
          "output_type": "stream",
          "name": "stdout",
          "text": [
            "marital-status\n",
            "Married-civ-spouse       22379\n",
            "Never-married            16117\n",
            "Divorced                  6633\n",
            "Separated                 1530\n",
            "Widowed                   1518\n",
            "Married-spouse-absent      628\n",
            "Married-AF-spouse           37\n",
            "Name: count, dtype: int64\n"
          ]
        }
      ]
    },
    {
      "cell_type": "markdown",
      "source": [
        "Find the mean hours-per-week worked by individuals in different education levels."
      ],
      "metadata": {
        "id": "c31zHtUjR5qo"
      }
    },
    {
      "cell_type": "code",
      "source": [
        "mean_hours_per_week = df.groupby('education')['hours-per-week'].mean()\n",
        "\n",
        "print(mean_hours_per_week)"
      ],
      "metadata": {
        "id": "2L4CvtUyR8Fi",
        "outputId": "36930718-d121-42d4-c8f1-df908fa8e206",
        "colab": {
          "base_uri": "https://localhost:8080/"
        }
      },
      "execution_count": null,
      "outputs": [
        {
          "output_type": "stream",
          "name": "stdout",
          "text": [
            "education\n",
            "10th            36.986321\n",
            "11th            33.952539\n",
            "12th            35.374429\n",
            "1st-4th         38.761134\n",
            "5th-6th         38.923379\n",
            "7th-8th         39.003141\n",
            "9th             38.359788\n",
            "Assoc-acdm      40.809494\n",
            "Assoc-voc       41.658418\n",
            "Bachelors       42.482492\n",
            "Doctorate       46.582492\n",
            "HS-grad         40.640775\n",
            "Masters         43.575837\n",
            "Preschool       36.566265\n",
            "Prof-school     47.579137\n",
            "Some-college    38.865784\n",
            "Name: hours-per-week, dtype: float64\n"
          ]
        }
      ]
    },
    {
      "cell_type": "markdown",
      "source": [
        "Calculate the mean, median, and standard deviation of 'fnlwgt' for each race."
      ],
      "metadata": {
        "id": "4qloBOBRR8Xj"
      }
    },
    {
      "cell_type": "code",
      "source": [
        "stats = df.groupby('race')['fnlwgt'].agg(['mean', 'median', 'std'])\n",
        "\n",
        "print(stats)"
      ],
      "metadata": {
        "id": "tvmvGXFBR_AG",
        "outputId": "9411c47a-2c98-41f6-ebac-eab982748ac3",
        "colab": {
          "base_uri": "https://localhost:8080/"
        }
      },
      "execution_count": null,
      "outputs": [
        {
          "output_type": "stream",
          "name": "stdout",
          "text": [
            "                             mean    median            std\n",
            "race                                                      \n",
            "Amer-Indian-Eskimo  120110.985106  101579.0   94655.908850\n",
            "Asian-Pac-Islander  159796.946675  139850.0   86997.647681\n",
            "Black               230485.070438  208266.0  125445.929357\n",
            "Other               195715.689655  188066.5   94063.712981\n",
            "White               186894.995738  177287.0  102637.466726\n"
          ]
        }
      ]
    },
    {
      "cell_type": "markdown",
      "source": [
        "Get the unique values and their counts for the 'native-country' column"
      ],
      "metadata": {
        "id": "dEGRU01lR_2X"
      }
    },
    {
      "cell_type": "code",
      "source": [
        "native_country_counts = df['native-country'].value_counts()\n",
        "\n",
        "print(native_country_counts)"
      ],
      "metadata": {
        "id": "pxp2d2JTSE1q",
        "outputId": "47d11e3c-7874-4e51-97d4-2b7d3e2a6b31",
        "colab": {
          "base_uri": "https://localhost:8080/"
        }
      },
      "execution_count": null,
      "outputs": [
        {
          "output_type": "stream",
          "name": "stdout",
          "text": [
            "native-country\n",
            "United-States                 43832\n",
            "Mexico                          951\n",
            "?                               857\n",
            "Philippines                     295\n",
            "Germany                         206\n",
            "Puerto-Rico                     184\n",
            "Canada                          182\n",
            "El-Salvador                     155\n",
            "India                           151\n",
            "Cuba                            138\n",
            "England                         127\n",
            "China                           122\n",
            "South                           115\n",
            "Jamaica                         106\n",
            "Italy                           105\n",
            "Dominican-Republic              103\n",
            "Japan                            92\n",
            "Guatemala                        88\n",
            "Poland                           87\n",
            "Vietnam                          86\n",
            "Columbia                         85\n",
            "Haiti                            75\n",
            "Portugal                         67\n",
            "Taiwan                           65\n",
            "Iran                             59\n",
            "Greece                           49\n",
            "Nicaragua                        49\n",
            "Peru                             46\n",
            "Ecuador                          45\n",
            "France                           38\n",
            "Ireland                          37\n",
            "Hong                             30\n",
            "Thailand                         30\n",
            "Cambodia                         28\n",
            "Trinadad&Tobago                  27\n",
            "Laos                             23\n",
            "Yugoslavia                       23\n",
            "Outlying-US(Guam-USVI-etc)       23\n",
            "Scotland                         21\n",
            "Honduras                         20\n",
            "Hungary                          19\n",
            "Holand-Netherlands                1\n",
            "Name: count, dtype: int64\n"
          ]
        }
      ]
    },
    {
      "cell_type": "markdown",
      "source": [
        "Filter the dataset to include only individuals with income >50K."
      ],
      "metadata": {
        "id": "fr_Lg7kzUClD"
      }
    },
    {
      "cell_type": "code",
      "source": [
        "df_high_income = df[df['income'] == '>50K']\n",
        "\n",
        "print(df_high_income)"
      ],
      "metadata": {
        "id": "WsyyQR9fUDn5",
        "outputId": "65f58cf5-0165-4fbe-e7af-45b29b095963",
        "colab": {
          "base_uri": "https://localhost:8080/"
        }
      },
      "execution_count": null,
      "outputs": [
        {
          "output_type": "stream",
          "name": "stdout",
          "text": [
            "       age         workclass  fnlwgt     education  education_num  \\\n",
            "2       28         Local-gov  336951    Assoc-acdm             12   \n",
            "3       44           Private  160323  Some-college             10   \n",
            "7       63  Self-emp-not-inc  104626   Prof-school             15   \n",
            "10      65           Private  184454       HS-grad              9   \n",
            "14      48           Private  279724       HS-grad              9   \n",
            "...    ...               ...     ...           ...            ...   \n",
            "48820   71           Unknown  287372     Doctorate             16   \n",
            "48826   39         Local-gov  111499    Assoc-acdm             12   \n",
            "48835   53           Private  321865       Masters             14   \n",
            "48838   40           Private  154374       HS-grad              9   \n",
            "48841   52      Self-emp-inc  287927       HS-grad              9   \n",
            "\n",
            "           marital-status         occupation relationship   race  gender  \\\n",
            "2      Married-civ-spouse    Protective-serv      Husband  White    Male   \n",
            "3      Married-civ-spouse  Machine-op-inspct      Husband  Black    Male   \n",
            "7      Married-civ-spouse     Prof-specialty      Husband  White    Male   \n",
            "10     Married-civ-spouse  Machine-op-inspct      Husband  White    Male   \n",
            "14     Married-civ-spouse  Machine-op-inspct      Husband  White    Male   \n",
            "...                   ...                ...          ...    ...     ...   \n",
            "48820  Married-civ-spouse            Unknown      Husband  White    Male   \n",
            "48826  Married-civ-spouse       Adm-clerical         Wife  White  Female   \n",
            "48835  Married-civ-spouse    Exec-managerial      Husband  White    Male   \n",
            "48838  Married-civ-spouse  Machine-op-inspct      Husband  White    Male   \n",
            "48841  Married-civ-spouse    Exec-managerial         Wife  White  Female   \n",
            "\n",
            "       capital-gain  capital-loss  hours-per-week native-country income  \\\n",
            "2                 0             0              40  United-States   >50K   \n",
            "3              7688             0              40  United-States   >50K   \n",
            "7              3103             0              32  United-States   >50K   \n",
            "10             6418             0              40  United-States   >50K   \n",
            "14             3103             0              48  United-States   >50K   \n",
            "...             ...           ...             ...            ...    ...   \n",
            "48820             0             0              10  United-States   >50K   \n",
            "48826             0             0              20  United-States   >50K   \n",
            "48835             0             0              40  United-States   >50K   \n",
            "48838             0             0              40  United-States   >50K   \n",
            "48841         15024             0              40  United-States   >50K   \n",
            "\n",
            "       income_binary age_group  \n",
            "2                  1     Youth  \n",
            "3                  1     Adult  \n",
            "7                  1    Senior  \n",
            "10                 1    Senior  \n",
            "14                 1     Adult  \n",
            "...              ...       ...  \n",
            "48820              1    Senior  \n",
            "48826              1     Adult  \n",
            "48835              1     Adult  \n",
            "48838              1     Adult  \n",
            "48841              1     Adult  \n",
            "\n",
            "[11687 rows x 17 columns]\n"
          ]
        }
      ]
    },
    {
      "cell_type": "markdown",
      "source": [
        "Sort the dataset by age in descending order."
      ],
      "metadata": {
        "id": "19-aDl96UD9x"
      }
    },
    {
      "cell_type": "code",
      "source": [
        "df_sorted = df.sort_values(by='age', ascending=False)\n",
        "\n",
        "print(df_sorted)"
      ],
      "metadata": {
        "id": "dt_BdbMfUIQx",
        "outputId": "1b8b5033-b76f-4c0f-da38-b9b14b9cfb31",
        "colab": {
          "base_uri": "https://localhost:8080/"
        }
      },
      "execution_count": null,
      "outputs": [
        {
          "output_type": "stream",
          "name": "stdout",
          "text": [
            "       age  workclass  fnlwgt education  education_num      marital-status  \\\n",
            "40519   90    Unknown  166343   1st-4th              2             Widowed   \n",
            "21553   90    Private  141758       9th              5       Never-married   \n",
            "47977   90    Unknown  313986   HS-grad              9  Married-civ-spouse   \n",
            "21651   90  Local-gov  227796   Masters             14  Married-civ-spouse   \n",
            "41584   90    Unknown  175444   7th-8th              4           Separated   \n",
            "...    ...        ...     ...       ...            ...                 ...   \n",
            "39614   17    Unknown   48751      11th              7       Never-married   \n",
            "23072   17    Private  110723      11th              7       Never-married   \n",
            "33275   17    Private  142457      11th              7       Never-married   \n",
            "31429   17    Private   34019      11th              7       Never-married   \n",
            "20904   17    Private  181580      11th              7       Never-married   \n",
            "\n",
            "            occupation   relationship   race  gender  capital-gain  \\\n",
            "40519          Unknown  Not-in-family  Black  Female             0   \n",
            "21553     Adm-clerical  Not-in-family  White  Female             0   \n",
            "47977          Unknown        Husband  White    Male             0   \n",
            "21651  Exec-managerial        Husband  White    Male         20051   \n",
            "41584          Unknown  Not-in-family  White  Female             0   \n",
            "...                ...            ...    ...     ...           ...   \n",
            "39614          Unknown      Own-child  Black  Female             0   \n",
            "23072            Sales      Own-child  White  Female             0   \n",
            "33275    Other-service      Own-child  Black    Male             0   \n",
            "31429    Other-service      Own-child  White    Male             0   \n",
            "20904    Other-service      Own-child  White  Female             0   \n",
            "\n",
            "       capital-loss  hours-per-week native-country income  income_binary  \\\n",
            "40519             0              40  United-States  <=50K              0   \n",
            "21553             0              40  United-States  <=50K              0   \n",
            "47977             0              40  United-States   >50K              1   \n",
            "21651             0              60  United-States   >50K              1   \n",
            "41584             0              15  United-States  <=50K              0   \n",
            "...             ...             ...            ...    ...            ...   \n",
            "39614             0              40  United-States  <=50K              0   \n",
            "23072             0              25  United-States  <=50K              0   \n",
            "33275             0              20  United-States  <=50K              0   \n",
            "31429             0              20  United-States  <=50K              0   \n",
            "20904             0              16  United-States  <=50K              0   \n",
            "\n",
            "      age_group  \n",
            "40519    Senior  \n",
            "21553    Senior  \n",
            "47977    Senior  \n",
            "21651    Senior  \n",
            "41584    Senior  \n",
            "...         ...  \n",
            "39614     Youth  \n",
            "23072     Youth  \n",
            "33275     Youth  \n",
            "31429     Youth  \n",
            "20904     Youth  \n",
            "\n",
            "[48842 rows x 17 columns]\n"
          ]
        }
      ]
    },
    {
      "cell_type": "markdown",
      "source": [
        "Filter the dataset to include only individuals who work more than 40 hours per week.\n",
        "\n"
      ],
      "metadata": {
        "id": "aHuVJpuWUHj6"
      }
    },
    {
      "cell_type": "code",
      "source": [
        "df_more_than_40_hours = df[df['hours-per-week'] > 40]\n",
        "\n",
        "print(df_more_than_40_hours)"
      ],
      "metadata": {
        "id": "H8-HcaOwWeTE",
        "outputId": "278af154-c22c-439f-c39a-803da6989161",
        "colab": {
          "base_uri": "https://localhost:8080/"
        }
      },
      "execution_count": null,
      "outputs": [
        {
          "output_type": "stream",
          "name": "stdout",
          "text": [
            "       age         workclass  fnlwgt     education  education_num  \\\n",
            "1       38           Private   89814       HS-grad              9   \n",
            "14      48           Private  279724       HS-grad              9   \n",
            "15      43           Private  346189       Masters             14   \n",
            "19      40           Private   85019     Doctorate             16   \n",
            "20      34           Private  107914     Bachelors             13   \n",
            "...    ...               ...     ...           ...            ...   \n",
            "48819   38           Private  139180     Bachelors             13   \n",
            "48824   45         Local-gov  119199    Assoc-acdm             12   \n",
            "48829   65  Self-emp-not-inc   99359   Prof-school             15   \n",
            "48831   43  Self-emp-not-inc   27242  Some-college             10   \n",
            "48833   43           Private   84661     Assoc-voc             11   \n",
            "\n",
            "           marital-status         occupation   relationship  \\\n",
            "1      Married-civ-spouse    Farming-fishing        Husband   \n",
            "14     Married-civ-spouse  Machine-op-inspct        Husband   \n",
            "15     Married-civ-spouse    Exec-managerial        Husband   \n",
            "19     Married-civ-spouse     Prof-specialty        Husband   \n",
            "20     Married-civ-spouse       Tech-support        Husband   \n",
            "...                   ...                ...            ...   \n",
            "48819            Divorced     Prof-specialty      Unmarried   \n",
            "48824            Divorced     Prof-specialty      Unmarried   \n",
            "48829       Never-married     Prof-specialty  Not-in-family   \n",
            "48831  Married-civ-spouse       Craft-repair        Husband   \n",
            "48833  Married-civ-spouse              Sales        Husband   \n",
            "\n",
            "                     race  gender  capital-gain  capital-loss  hours-per-week  \\\n",
            "1                   White    Male             0             0              50   \n",
            "14                  White    Male          3103             0              48   \n",
            "15                  White    Male             0             0              50   \n",
            "19     Asian-Pac-Islander    Male             0             0              45   \n",
            "20                  White    Male             0             0              47   \n",
            "...                   ...     ...           ...           ...             ...   \n",
            "48819               Black  Female         15020             0              45   \n",
            "48824               White  Female             0             0              48   \n",
            "48829               White    Male          1086             0              60   \n",
            "48831               White    Male             0             0              50   \n",
            "48833               White    Male             0             0              45   \n",
            "\n",
            "      native-country income  income_binary age_group  \n",
            "1      United-States  <=50K              0     Adult  \n",
            "14     United-States   >50K              1     Adult  \n",
            "15     United-States   >50K              1     Adult  \n",
            "19                 ?   >50K              1     Adult  \n",
            "20     United-States   >50K              1     Adult  \n",
            "...              ...    ...            ...       ...  \n",
            "48819  United-States   >50K              1     Adult  \n",
            "48824  United-States  <=50K              0     Adult  \n",
            "48829  United-States  <=50K              0    Senior  \n",
            "48831  United-States  <=50K              0     Adult  \n",
            "48833  United-States  <=50K              0     Adult  \n",
            "\n",
            "[14352 rows x 17 columns]\n"
          ]
        }
      ]
    },
    {
      "cell_type": "code",
      "source": [
        "Calculate the percentage of missing values in each column."
      ],
      "metadata": {
        "id": "7ROe3CCRWmB1"
      },
      "execution_count": null,
      "outputs": []
    },
    {
      "cell_type": "code",
      "source": [
        "missing_percentage = df.isna().mean() * 100\n",
        "\n",
        "print(missing_percentage)"
      ],
      "metadata": {
        "id": "JZMPlZG6WnNN",
        "outputId": "7da493de-59b7-4714-c9c7-1bef09aea4ce",
        "colab": {
          "base_uri": "https://localhost:8080/"
        }
      },
      "execution_count": null,
      "outputs": [
        {
          "output_type": "stream",
          "name": "stdout",
          "text": [
            "age               0.0\n",
            "workclass         0.0\n",
            "fnlwgt            0.0\n",
            "education         0.0\n",
            "education_num     0.0\n",
            "marital-status    0.0\n",
            "occupation        0.0\n",
            "relationship      0.0\n",
            "race              0.0\n",
            "gender            0.0\n",
            "capital-gain      0.0\n",
            "capital-loss      0.0\n",
            "hours-per-week    0.0\n",
            "native-country    0.0\n",
            "income            0.0\n",
            "income_binary     0.0\n",
            "age_group         0.0\n",
            "dtype: float64\n"
          ]
        }
      ]
    },
    {
      "cell_type": "markdown",
      "source": [
        "Calculate the median income by education level and gender."
      ],
      "metadata": {
        "id": "UNXEa2PdWnrx"
      }
    },
    {
      "cell_type": "code",
      "source": [
        "median_income = df.groupby(['education', 'gender'])['income_binary'].median()\n",
        "\n",
        "print(median_income)"
      ],
      "metadata": {
        "id": "OOwioDK6WwlN",
        "outputId": "486cca94-f059-4489-f31a-dd86b0988840",
        "colab": {
          "base_uri": "https://localhost:8080/"
        }
      },
      "execution_count": null,
      "outputs": [
        {
          "output_type": "stream",
          "name": "stdout",
          "text": [
            "education     gender\n",
            "10th          Female    0.0\n",
            "              Male      0.0\n",
            "11th          Female    0.0\n",
            "              Male      0.0\n",
            "12th          Female    0.0\n",
            "              Male      0.0\n",
            "1st-4th       Female    0.0\n",
            "              Male      0.0\n",
            "5th-6th       Female    0.0\n",
            "              Male      0.0\n",
            "7th-8th       Female    0.0\n",
            "              Male      0.0\n",
            "9th           Female    0.0\n",
            "              Male      0.0\n",
            "Assoc-acdm    Female    0.0\n",
            "              Male      0.0\n",
            "Assoc-voc     Female    0.0\n",
            "              Male      0.0\n",
            "Bachelors     Female    0.0\n",
            "              Male      1.0\n",
            "Doctorate     Female    1.0\n",
            "              Male      1.0\n",
            "HS-grad       Female    0.0\n",
            "              Male      0.0\n",
            "Masters       Female    0.0\n",
            "              Male      1.0\n",
            "Preschool     Female    0.0\n",
            "              Male      0.0\n",
            "Prof-school   Female    0.0\n",
            "              Male      1.0\n",
            "Some-college  Female    0.0\n",
            "              Male      0.0\n",
            "Name: income_binary, dtype: float64\n"
          ]
        }
      ]
    },
    {
      "cell_type": "markdown",
      "source": [
        "Find the top 3 occupations with the highest average capital-gain."
      ],
      "metadata": {
        "id": "gWX7xURdWymB"
      }
    },
    {
      "cell_type": "code",
      "source": [
        "average_capital_gain = df.groupby('occupation')['capital-gain'].mean()\n",
        "top_3_occupations = average_capital_gain.sort_values(ascending=False).head(3)\n",
        "\n",
        "print(top_3_occupations)"
      ],
      "metadata": {
        "id": "r0KetkkoXAeD",
        "outputId": "eb57fc49-696b-4224-b05a-018d385fd340",
        "colab": {
          "base_uri": "https://localhost:8080/"
        }
      },
      "execution_count": null,
      "outputs": [
        {
          "output_type": "stream",
          "name": "stdout",
          "text": [
            "occupation\n",
            "Prof-specialty     2745.918017\n",
            "Exec-managerial    2277.755504\n",
            "Sales              1266.898256\n",
            "Name: capital-gain, dtype: float64\n"
          ]
        }
      ]
    },
    {
      "cell_type": "markdown",
      "source": [
        "Filter the dataset to include individuals who are 'Married-civ-spouse' and have an income >50K."
      ],
      "metadata": {
        "id": "7A9gkvQsXGO_"
      }
    },
    {
      "cell_type": "code",
      "source": [
        "df_filtered = df[(df['marital-status'] == 'Married-civ-spouse') & (df['income'] == '>50K')]\n",
        "\n",
        "print(df_filtered)"
      ],
      "metadata": {
        "id": "x97bC-MPXHGP",
        "outputId": "1e961f74-2d0e-4276-9c53-07cd33e2c36d",
        "colab": {
          "base_uri": "https://localhost:8080/"
        }
      },
      "execution_count": null,
      "outputs": [
        {
          "output_type": "stream",
          "name": "stdout",
          "text": [
            "       age         workclass  fnlwgt     education  education_num  \\\n",
            "2       28         Local-gov  336951    Assoc-acdm             12   \n",
            "3       44           Private  160323  Some-college             10   \n",
            "7       63  Self-emp-not-inc  104626   Prof-school             15   \n",
            "10      65           Private  184454       HS-grad              9   \n",
            "14      48           Private  279724       HS-grad              9   \n",
            "...    ...               ...     ...           ...            ...   \n",
            "48820   71           Unknown  287372     Doctorate             16   \n",
            "48826   39         Local-gov  111499    Assoc-acdm             12   \n",
            "48835   53           Private  321865       Masters             14   \n",
            "48838   40           Private  154374       HS-grad              9   \n",
            "48841   52      Self-emp-inc  287927       HS-grad              9   \n",
            "\n",
            "           marital-status         occupation relationship   race  gender  \\\n",
            "2      Married-civ-spouse    Protective-serv      Husband  White    Male   \n",
            "3      Married-civ-spouse  Machine-op-inspct      Husband  Black    Male   \n",
            "7      Married-civ-spouse     Prof-specialty      Husband  White    Male   \n",
            "10     Married-civ-spouse  Machine-op-inspct      Husband  White    Male   \n",
            "14     Married-civ-spouse  Machine-op-inspct      Husband  White    Male   \n",
            "...                   ...                ...          ...    ...     ...   \n",
            "48820  Married-civ-spouse            Unknown      Husband  White    Male   \n",
            "48826  Married-civ-spouse       Adm-clerical         Wife  White  Female   \n",
            "48835  Married-civ-spouse    Exec-managerial      Husband  White    Male   \n",
            "48838  Married-civ-spouse  Machine-op-inspct      Husband  White    Male   \n",
            "48841  Married-civ-spouse    Exec-managerial         Wife  White  Female   \n",
            "\n",
            "       capital-gain  capital-loss  hours-per-week native-country income  \\\n",
            "2                 0             0              40  United-States   >50K   \n",
            "3              7688             0              40  United-States   >50K   \n",
            "7              3103             0              32  United-States   >50K   \n",
            "10             6418             0              40  United-States   >50K   \n",
            "14             3103             0              48  United-States   >50K   \n",
            "...             ...           ...             ...            ...    ...   \n",
            "48820             0             0              10  United-States   >50K   \n",
            "48826             0             0              20  United-States   >50K   \n",
            "48835             0             0              40  United-States   >50K   \n",
            "48838             0             0              40  United-States   >50K   \n",
            "48841         15024             0              40  United-States   >50K   \n",
            "\n",
            "       income_binary age_group  \n",
            "2                  1     Youth  \n",
            "3                  1     Adult  \n",
            "7                  1    Senior  \n",
            "10                 1    Senior  \n",
            "14                 1     Adult  \n",
            "...              ...       ...  \n",
            "48820              1    Senior  \n",
            "48826              1     Adult  \n",
            "48835              1     Adult  \n",
            "48838              1     Adult  \n",
            "48841              1     Adult  \n",
            "\n",
            "[9984 rows x 17 columns]\n"
          ]
        }
      ]
    }
  ]
}