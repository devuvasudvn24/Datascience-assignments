{
  "nbformat": 4,
  "nbformat_minor": 0,
  "metadata": {
    "colab": {
      "provenance": [],
      "authorship_tag": "ABX9TyNZ9IiWr/BgGUfHJVvtSyrK",
      "include_colab_link": true
    },
    "kernelspec": {
      "name": "python3",
      "display_name": "Python 3"
    },
    "language_info": {
      "name": "python"
    }
  },
  "cells": [
    {
      "cell_type": "markdown",
      "metadata": {
        "id": "view-in-github",
        "colab_type": "text"
      },
      "source": [
        "<a href=\"https://colab.research.google.com/github/devuvasudvn24/Datascience-assignments/blob/main/python_assignment.ipynb\" target=\"_parent\"><img src=\"https://colab.research.google.com/assets/colab-badge.svg\" alt=\"Open In Colab\"/></a>"
      ]
    },
    {
      "cell_type": "markdown",
      "source": [
        "1. Write a Python program which accepts the radius of a circle from the user\n",
        "and compute the area.Sample input: Enter the radius: 3\n",
        "Sample output: Area of Circle is 28.59999999999"
      ],
      "metadata": {
        "id": "9Sl_B6dmR-MW"
      }
    },
    {
      "cell_type": "code",
      "execution_count": 4,
      "metadata": {
        "colab": {
          "base_uri": "https://localhost:8080/"
        },
        "id": "bW9nSXCoR9cP",
        "outputId": "1039c282-137f-405f-e976-31abbe69f933"
      },
      "outputs": [
        {
          "output_type": "stream",
          "name": "stdout",
          "text": [
            "Enter the radius: 4\n",
            "Area of Circle is 50.26548245743669\n"
          ]
        }
      ],
      "source": [
        "import math\n",
        "radius = float(input(\"Enter the radius: \"))\n",
        "area = math.pi * radius ** 2\n",
        "print(f\"Area of Circle is {area}\")"
      ]
    },
    {
      "cell_type": "markdown",
      "source": [
        "2. Write a Python Program to accept the details of a student like name, roll\n",
        "number and mark and display it.Sample input: Enter the name: Anisha Enter the roll number: 21 Enter the mark: 78 Sample output: Name: Anisha Roll No: 21 Mark: 78\n"
      ],
      "metadata": {
        "id": "5LdYHJwETDYW"
      }
    },
    {
      "cell_type": "code",
      "source": [
        "name = input(\"Enter the name: \")\n",
        "roll_number = input(\"Enter the roll number: \")\n",
        "mark = input(\"Enter the mark: \")\n",
        "print(\"\\nStudent Details:\")\n",
        "print(\"Name:\",name)\n",
        "print(\"Roll No:\",roll_number)\n",
        "print(\"Mark:\",mark)"
      ],
      "metadata": {
        "colab": {
          "base_uri": "https://localhost:8080/"
        },
        "id": "PuxgndoLTIwa",
        "outputId": "43ea56ea-119f-4fe5-de9b-30ae2f329d04"
      },
      "execution_count": 3,
      "outputs": [
        {
          "output_type": "stream",
          "name": "stdout",
          "text": [
            "Enter the name: Anisha\n",
            "Enter the roll number: 32\n",
            "Enter the mark: 60\n",
            "\n",
            "Student Details:\n",
            "Name: Anisha\n",
            "Roll No: 32\n",
            "Mark: 60\n"
          ]
        }
      ]
    },
    {
      "cell_type": "markdown",
      "source": [
        "3. Write a Python program to get the largest number from a list.\n",
        "Sample input: 12, 3, 47, 10\n",
        "Sample output: 47 is the largest number.\n"
      ],
      "metadata": {
        "id": "iok_jUDKU6eo"
      }
    },
    {
      "cell_type": "code",
      "source": [
        "numbers = input(\"Enter numbers separated by commas: \")\n",
        "numbers_list = [int(num.strip()) for num in numbers.split(',')]\n",
        "largest_number = max(numbers_list)\n",
        "print(largest_number,\" is the largest number.\")\n"
      ],
      "metadata": {
        "colab": {
          "base_uri": "https://localhost:8080/"
        },
        "id": "GgtBX5lrWjU2",
        "outputId": "cf25db9e-43d8-4780-d68c-fdeff662ec75"
      },
      "execution_count": 5,
      "outputs": [
        {
          "output_type": "stream",
          "name": "stdout",
          "text": [
            "Enter numbers separated by commas: 6,13,65,32,9\n",
            "65  is the largest number.\n"
          ]
        }
      ]
    },
    {
      "cell_type": "markdown",
      "source": [
        "4. Given a range of first 10 numbers, write a Python program to iterate from\n",
        "start number to the end number and print the sum of the current number\n",
        "and previous number.\n",
        "Sample input: 1….10\n",
        "Sample output: Current Number 1 Previous Number 0 Sum: 1 Current\n",
        "Number 2 Previous Number 1 Sum: 3 Current Number 3 Previous\n",
        "Number 2 Sum: 5… Current Number 10 Previous Number 9 Sum: 19\n"
      ],
      "metadata": {
        "id": "pEZMvBrgW0U-"
      }
    },
    {
      "cell_type": "code",
      "source": [
        "pre_num=0\n",
        "for i in range(1,11):\n",
        "    sum=pre_num+i\n",
        "    print(\"Current Number\",i,\"Previous Number\",pre_num,\"Sum:\",sum)\n",
        "    pre_num=i"
      ],
      "metadata": {
        "colab": {
          "base_uri": "https://localhost:8080/"
        },
        "id": "Jy1esUPvW45L",
        "outputId": "07e7b09d-45cd-45bd-9733-5336bb5de88d"
      },
      "execution_count": 6,
      "outputs": [
        {
          "output_type": "stream",
          "name": "stdout",
          "text": [
            "Current Number 1 Previous Number 0 Sum: 1\n",
            "Current Number 2 Previous Number 1 Sum: 3\n",
            "Current Number 3 Previous Number 2 Sum: 5\n",
            "Current Number 4 Previous Number 3 Sum: 7\n",
            "Current Number 5 Previous Number 4 Sum: 9\n",
            "Current Number 6 Previous Number 5 Sum: 11\n",
            "Current Number 7 Previous Number 6 Sum: 13\n",
            "Current Number 8 Previous Number 7 Sum: 15\n",
            "Current Number 9 Previous Number 8 Sum: 17\n",
            "Current Number 10 Previous Number 9 Sum: 19\n"
          ]
        }
      ]
    },
    {
      "cell_type": "markdown",
      "source": [
        "5. Write a Python program to print only those numbers which are divisible\n",
        "of 5.\n",
        "Sample input: 10, 20,33,46,55 Sample output: 10, 20, 55"
      ],
      "metadata": {
        "id": "X5QIppHjXLDn"
      }
    },
    {
      "cell_type": "code",
      "source": [
        "list1=[10,20,33,46,55]\n",
        "for i in list1:\n",
        "    if i%5==0:\n",
        "        print(i)\n"
      ],
      "metadata": {
        "colab": {
          "base_uri": "https://localhost:8080/"
        },
        "id": "7RahUo27Xcay",
        "outputId": "58a617fa-e7b3-437d-a444-f94f5a008e41"
      },
      "execution_count": 7,
      "outputs": [
        {
          "output_type": "stream",
          "name": "stdout",
          "text": [
            "10\n",
            "20\n",
            "55\n"
          ]
        }
      ]
    },
    {
      "cell_type": "markdown",
      "source": [
        "6. Write a Python program to check whether a number is prime or not.\n",
        "Sample input: Enter the number: 3\n",
        "Sample output: 3 is a prime number"
      ],
      "metadata": {
        "id": "2TBIVc8UX83g"
      }
    },
    {
      "cell_type": "code",
      "source": [
        "prime_num=int(input(\"Enter the number: \"))\n",
        "for i in range(2,prime_num):\n",
        "    if prime_num%i==0:\n",
        "        print(prime_num,\"is not a prime number.\")\n",
        "        break\n",
        "else:\n",
        "    print(prime_num,\"is a prime number.\")"
      ],
      "metadata": {
        "colab": {
          "base_uri": "https://localhost:8080/"
        },
        "id": "2CSumzsEYFHg",
        "outputId": "fc97993c-e2ce-4e20-dcd1-28af356d9469"
      },
      "execution_count": 8,
      "outputs": [
        {
          "output_type": "stream",
          "name": "stdout",
          "text": [
            "Enter the number: 5\n",
            "5 is a prime number.\n"
          ]
        }
      ]
    },
    {
      "cell_type": "markdown",
      "source": [
        "7. Write a Python program to reverse a list using for loop.\n",
        "Sample input: 10,40,30,70\n",
        "Sample output: 70,30,40,10"
      ],
      "metadata": {
        "id": "lPK0R7vbYUxK"
      }
    },
    {
      "cell_type": "code",
      "source": [
        "rev_num=[10,40,30,70]\n",
        "rev_num.reverse()\n",
        "print(rev_num)"
      ],
      "metadata": {
        "colab": {
          "base_uri": "https://localhost:8080/"
        },
        "id": "gAYU9tq6YWnH",
        "outputId": "4dc45670-a66d-44d6-e5aa-81999909f02c"
      },
      "execution_count": 9,
      "outputs": [
        {
          "output_type": "stream",
          "name": "stdout",
          "text": [
            "[70, 30, 40, 10]\n"
          ]
        }
      ]
    },
    {
      "cell_type": "markdown",
      "source": [
        "8. Write a Python program to print the following pattern.\n",
        "*\n",
        "**\n",
        "***\n",
        "****"
      ],
      "metadata": {
        "id": "vkQC0-Z_ZCwx"
      }
    },
    {
      "cell_type": "code",
      "source": [
        "for i in range(1,5):\n",
        "    print(\"*\"*i)"
      ],
      "metadata": {
        "colab": {
          "base_uri": "https://localhost:8080/"
        },
        "id": "sxaciBnlZIro",
        "outputId": "de4b2e15-11e4-476b-f234-20d0c9df424e"
      },
      "execution_count": 10,
      "outputs": [
        {
          "output_type": "stream",
          "name": "stdout",
          "text": [
            "*\n",
            "**\n",
            "***\n",
            "****\n"
          ]
        }
      ]
    },
    {
      "cell_type": "markdown",
      "source": [
        "9. Write a Python program to find the maximum of three numbers\n",
        "Sample input: 34,12,7\n",
        "Sample output: 34"
      ],
      "metadata": {
        "id": "oX9FmyjyZPIT"
      }
    },
    {
      "cell_type": "code",
      "source": [
        "a=(34,12,7)\n",
        "print(max(a))"
      ],
      "metadata": {
        "colab": {
          "base_uri": "https://localhost:8080/"
        },
        "id": "-YqwKLYqZVX6",
        "outputId": "ab6ef8b4-c20f-43d7-b775-860157ec79ac"
      },
      "execution_count": 11,
      "outputs": [
        {
          "output_type": "stream",
          "name": "stdout",
          "text": [
            "34\n"
          ]
        }
      ]
    },
    {
      "cell_type": "markdown",
      "source": [
        "10. Write a Python program to construct the following pattern, using a\n",
        "nested for loop.\n",
        "*\n",
        "**\n",
        "***\n",
        "****\n",
        "*****\n",
        "****\n",
        "***\n",
        "**\n",
        "*"
      ],
      "metadata": {
        "id": "bmyCJdswZgCL"
      }
    },
    {
      "cell_type": "code",
      "source": [
        "for i in range(1,6):\n",
        "    print(\"*\"*i)\n",
        "for i in range(4,0,-1):\n",
        "    print(\"*\"*i)"
      ],
      "metadata": {
        "colab": {
          "base_uri": "https://localhost:8080/"
        },
        "id": "_xm3--bjZlO6",
        "outputId": "e6d23c8a-2889-4dfe-d750-d786d8df021c"
      },
      "execution_count": 12,
      "outputs": [
        {
          "output_type": "stream",
          "name": "stdout",
          "text": [
            "*\n",
            "**\n",
            "***\n",
            "****\n",
            "*****\n",
            "****\n",
            "***\n",
            "**\n",
            "*\n"
          ]
        }
      ]
    },
    {
      "cell_type": "markdown",
      "source": [
        "**PART 2**"
      ],
      "metadata": {
        "id": "I8ah-TPIaAgj"
      }
    },
    {
      "cell_type": "markdown",
      "source": [
        "1.Write a Python program to accept a string value from the user and display the count of each character in that string. Sample input: Enter a string value: assembly Sample output: a=1, s=2, e=1, m=1, b=1, l=1, y=1"
      ],
      "metadata": {
        "id": "oniYn1OQZ0Wn"
      }
    },
    {
      "cell_type": "code",
      "source": [
        "a=input(\"Enter a string value: \")\n",
        "count={}\n",
        "for i in a:\n",
        "    if i in count:\n",
        "        count[i]+=1\n",
        "    else:\n",
        "        count[i]=1\n",
        "for i,j in count.items():\n",
        "    print(i,\"=\",j)"
      ],
      "metadata": {
        "colab": {
          "base_uri": "https://localhost:8080/"
        },
        "id": "vj4p2yzpZ_Ui",
        "outputId": "16f76cc7-46f3-49d4-856d-73a05d0a4565"
      },
      "execution_count": 13,
      "outputs": [
        {
          "output_type": "stream",
          "name": "stdout",
          "text": [
            "Enter a string value: apple\n",
            "a = 1\n",
            "p = 2\n",
            "l = 1\n",
            "e = 1\n"
          ]
        }
      ]
    },
    {
      "cell_type": "markdown",
      "source": [
        "2.Write a Python function to find the maximum of three numbers Sample input: 34,12,7 Sample output: 34"
      ],
      "metadata": {
        "id": "4aTpRSRJafvO"
      }
    },
    {
      "cell_type": "code",
      "source": [
        "a=(51,9,36)\n",
        "print(\"The maximum of three number is \",max(a))"
      ],
      "metadata": {
        "colab": {
          "base_uri": "https://localhost:8080/"
        },
        "id": "tWmOyE4hak6U",
        "outputId": "24cc9de4-ca1d-4183-a7d4-f267bbe96382"
      },
      "execution_count": 15,
      "outputs": [
        {
          "output_type": "stream",
          "name": "stdout",
          "text": [
            "The maximum of three number is  51\n"
          ]
        }
      ]
    },
    {
      "cell_type": "markdown",
      "source": [
        "3.Write a Python function called exponent(base,exp) that returns an integer value of base raises to the power of exp. Sample input: Enter the base: 2 Enter the exponent: 3 Sample output: 8"
      ],
      "metadata": {
        "id": "d5hEFgFAcmSV"
      }
    },
    {
      "cell_type": "code",
      "source": [
        "base=int(input(\"Enter the base: \"))\n",
        "exp=int(input(\"Enter the exponent: \"))\n",
        "def exponent(base,exp):\n",
        "    return base**exp\n",
        "print(exponent(base,exp))"
      ],
      "metadata": {
        "colab": {
          "base_uri": "https://localhost:8080/"
        },
        "id": "86t7nLOOfBgQ",
        "outputId": "5c3b3109-6dd8-42c0-d598-d55c0b0bd02d"
      },
      "execution_count": 16,
      "outputs": [
        {
          "output_type": "stream",
          "name": "stdout",
          "text": [
            "Enter the base: 4\n",
            "Enter the exponent: 2\n",
            "16\n"
          ]
        }
      ]
    },
    {
      "cell_type": "markdown",
      "source": [
        "4.Write a Python function that takes a positive integer and returns the sum of the cube of all the positive integers smaller than the specified number. Sample input: 4 Sample output: 36"
      ],
      "metadata": {
        "id": "mK94s5slfGsw"
      }
    },
    {
      "cell_type": "code",
      "source": [
        "def sum_of_cubes(n):\n",
        "  sum = 0\n",
        "  for i in range(1, n):\n",
        "    sum += i**3\n",
        "  return sum\n",
        "n = int(input(\"Enter a positive integer: \"))\n",
        "result = sum_of_cubes(n)\n",
        "print(\"The sum of cubes of numbers smaller than\",n,\"is:\",result)\n"
      ],
      "metadata": {
        "colab": {
          "base_uri": "https://localhost:8080/"
        },
        "id": "zB8KUZDafWv5",
        "outputId": "0ff93416-811d-45c1-8024-7ba7d93302a1"
      },
      "execution_count": 23,
      "outputs": [
        {
          "output_type": "stream",
          "name": "stdout",
          "text": [
            "Enter a positive integer: 7\n",
            "The sum of cubes of numbers smaller than 7 is: 441\n"
          ]
        }
      ]
    },
    {
      "cell_type": "markdown",
      "source": [
        "5. Write a Python program which iterates from 1 to 10. For multiples of 2, print “Fizz” instead of the number and for the multiples of 5, print “Buzz”. For numbers which are multiples of both 2 and 5, print “FizzBuzz”. Sample input: numbers from 1 to 10 Sample output: 1 Fizz 3 Fizz Buzz Fizz 7 Fizz 9 FizzBuzz"
      ],
      "metadata": {
        "id": "IGaJvL7ngvBn"
      }
    },
    {
      "cell_type": "code",
      "source": [
        "for i in range(1,11):\n",
        "    if i%2==0 and i%5==0:\n",
        "        print(\"FizzBuzz\")\n",
        "    elif i%2==0:\n",
        "        print(\"Fizz\")\n",
        "    elif i%5==0:\n",
        "        print(\"Buzz\")\n",
        "    else:\n",
        "        print(i)"
      ],
      "metadata": {
        "colab": {
          "base_uri": "https://localhost:8080/"
        },
        "id": "Phfvu9n_ibJi",
        "outputId": "6eacae57-ddbe-4be3-b028-703fd8c3b3d1"
      },
      "execution_count": 24,
      "outputs": [
        {
          "output_type": "stream",
          "name": "stdout",
          "text": [
            "1\n",
            "Fizz\n",
            "3\n",
            "Fizz\n",
            "Buzz\n",
            "Fizz\n",
            "7\n",
            "Fizz\n",
            "9\n",
            "FizzBuzz\n"
          ]
        }
      ]
    },
    {
      "cell_type": "markdown",
      "source": [
        "6.Write a Python program to find the most frequent item in a list of numbers. Sample input: 2, 3, 4, 2, 5, 2 Sample output: 2"
      ],
      "metadata": {
        "id": "K9R2h7dE3nhy"
      }
    },
    {
      "cell_type": "code",
      "source": [
        "a=[2,3,4,2,5,2]\n",
        "print(\"The most frequent item is: \",max(a,key=a.count))"
      ],
      "metadata": {
        "colab": {
          "base_uri": "https://localhost:8080/"
        },
        "id": "MfLYDzHg3zDz",
        "outputId": "93865a1e-4f8f-4ce3-cf4c-5dbe9c68e806"
      },
      "execution_count": 25,
      "outputs": [
        {
          "output_type": "stream",
          "name": "stdout",
          "text": [
            "The most frequent item is:  2\n"
          ]
        }
      ]
    },
    {
      "cell_type": "markdown",
      "source": [
        "7.Write a Python program to find the sum of squares of the numbers in a list. Sample input: 2,1,3,1 Sample output: 15\n"
      ],
      "metadata": {
        "id": "dH3tMWYi358y"
      }
    },
    {
      "cell_type": "code",
      "source": [
        "l1 = [2, 1, 3, 1]\n",
        "sum_of_squares = 0\n",
        "for num in l1:\n",
        "    sum_of_squares += num ** 2\n",
        "print(sum_of_squares)"
      ],
      "metadata": {
        "colab": {
          "base_uri": "https://localhost:8080/"
        },
        "id": "XyVpQQtH3_bQ",
        "outputId": "a73828b9-7a1b-42c7-a977-d1debc7cecbe"
      },
      "execution_count": 26,
      "outputs": [
        {
          "output_type": "stream",
          "name": "stdout",
          "text": [
            "15\n"
          ]
        }
      ]
    },
    {
      "cell_type": "markdown",
      "source": [
        "8.Write a Python program using for loop that will iterate from 1 to 15. For each iteration, check if the current number is odd or even, and display the message to the screen as odd or even. Sample input: 1….15 Sample output: 1-odd 2-even …. 15-odd"
      ],
      "metadata": {
        "id": "5b9H1Vl-6lbd"
      }
    },
    {
      "cell_type": "code",
      "source": [
        "for i in range(1,16):\n",
        "    if i%2==0:\n",
        "        print(i,\"-even\")\n",
        "    else:\n",
        "        print(i,\"-odd\")"
      ],
      "metadata": {
        "colab": {
          "base_uri": "https://localhost:8080/"
        },
        "id": "PP3Q_xUr8477",
        "outputId": "adeb1a38-fd74-48f9-86cc-69eb8d737f50"
      },
      "execution_count": 27,
      "outputs": [
        {
          "output_type": "stream",
          "name": "stdout",
          "text": [
            "1 -odd\n",
            "2 -even\n",
            "3 -odd\n",
            "4 -even\n",
            "5 -odd\n",
            "6 -even\n",
            "7 -odd\n",
            "8 -even\n",
            "9 -odd\n",
            "10 -even\n",
            "11 -odd\n",
            "12 -even\n",
            "13 -odd\n",
            "14 -even\n",
            "15 -odd\n"
          ]
        }
      ]
    },
    {
      "cell_type": "markdown",
      "source": [
        "9.Write a Python program to convert temperatures to and from Celsius Fahrenheit. [Formula: c/5=f-32/9 where c=temperature in Celsius and f= temperature in Fahrenheit.] Sample input: Temperature in Fahrenheit =41 Sample output: Temperature in Celsius =5\n"
      ],
      "metadata": {
        "id": "BnqWokDy9NEm"
      }
    },
    {
      "cell_type": "code",
      "source": [
        "f=int(input(\"Temperature in Fahrenheit =\"))\n",
        "c=(f-32)*5/9\n",
        "print(\"Temperature in Celsius =\",int(c))\n"
      ],
      "metadata": {
        "colab": {
          "base_uri": "https://localhost:8080/"
        },
        "id": "YN6Sbk4a9QdO",
        "outputId": "2b36a5ce-ccf2-4701-f759-3d36add226ea"
      },
      "execution_count": 29,
      "outputs": [
        {
          "output_type": "stream",
          "name": "stdout",
          "text": [
            "Temperature in Fahrenheit =38\n",
            "Temperature in Celsius = 3\n"
          ]
        }
      ]
    },
    {
      "cell_type": "markdown",
      "source": [
        "10.Write a Python function to calculate the factorial of a number (a nonnegative integer). The function accepts the number as an argument. Sample input: 3 Sample output: 6"
      ],
      "metadata": {
        "id": "hkpQo5RqNmn_"
      }
    },
    {
      "cell_type": "code",
      "source": [
        "fact=int(input(\"Enter the number: \"))\n",
        "def factorial(fact):\n",
        "    if fact==0:\n",
        "        return 1\n",
        "    else:\n",
        "        return fact*factorial(fact-1)\n",
        "print(factorial(fact))"
      ],
      "metadata": {
        "colab": {
          "base_uri": "https://localhost:8080/"
        },
        "id": "RFMshwstNu50",
        "outputId": "8264117f-4141-4151-e002-834d96c0f935"
      },
      "execution_count": 30,
      "outputs": [
        {
          "output_type": "stream",
          "name": "stdout",
          "text": [
            "Enter the number: 6\n",
            "720\n"
          ]
        }
      ]
    }
  ]
}