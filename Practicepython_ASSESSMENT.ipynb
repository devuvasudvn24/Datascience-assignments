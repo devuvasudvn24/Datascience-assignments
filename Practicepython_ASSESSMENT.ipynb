{
  "nbformat": 4,
  "nbformat_minor": 0,
  "metadata": {
    "colab": {
      "provenance": [],
      "include_colab_link": true
    },
    "kernelspec": {
      "name": "python3",
      "display_name": "Python 3"
    },
    "language_info": {
      "name": "python"
    }
  },
  "cells": [
    {
      "cell_type": "markdown",
      "metadata": {
        "id": "view-in-github",
        "colab_type": "text"
      },
      "source": [
        "<a href=\"https://colab.research.google.com/github/devuvasudvn24/Datascience-assignments/blob/main/Practicepython_ASSESSMENT.ipynb\" target=\"_parent\"><img src=\"https://colab.research.google.com/assets/colab-badge.svg\" alt=\"Open In Colab\"/></a>"
      ]
    },
    {
      "cell_type": "code",
      "execution_count": null,
      "metadata": {
        "id": "mUM9UyCv0o4o"
      },
      "outputs": [],
      "source": []
    },
    {
      "cell_type": "markdown",
      "source": [
        "**Qn 1**"
      ],
      "metadata": {
        "id": "qcZG-4Mw0x0B"
      }
    },
    {
      "cell_type": "code",
      "source": [
        "string = \"Hello, World!\"\n",
        "substring = string[:5]\n",
        "print(substring)"
      ],
      "metadata": {
        "id": "ih9Hk9ub02AI",
        "colab": {
          "base_uri": "https://localhost:8080/"
        },
        "outputId": "1af72567-fe15-484d-f48a-1cb5a0478f76"
      },
      "execution_count": null,
      "outputs": [
        {
          "output_type": "stream",
          "name": "stdout",
          "text": [
            "Hello\n"
          ]
        }
      ]
    },
    {
      "cell_type": "code",
      "source": [
        "string = \"Python is fun\"\n",
        "substring = string[7:9]\n",
        "print(substring)"
      ],
      "metadata": {
        "colab": {
          "base_uri": "https://localhost:8080/"
        },
        "id": "aYurzxLh5rHR",
        "outputId": "3490ee19-93f8-4ff2-ea30-e06c7380d7a8"
      },
      "execution_count": null,
      "outputs": [
        {
          "output_type": "stream",
          "name": "stdout",
          "text": [
            "is\n"
          ]
        }
      ]
    },
    {
      "cell_type": "code",
      "source": [
        "string = \"Programming\"\n",
        "substring = string[3:7]\n",
        "print(substring)"
      ],
      "metadata": {
        "colab": {
          "base_uri": "https://localhost:8080/"
        },
        "id": "z32wY0wc6r6O",
        "outputId": "9d556230-91fc-4402-db81-81dac3416a67"
      },
      "execution_count": null,
      "outputs": [
        {
          "output_type": "stream",
          "name": "stdout",
          "text": [
            "gram\n"
          ]
        }
      ]
    },
    {
      "cell_type": "code",
      "source": [
        "string =  \"abcdefgh\"\n",
        "substring = string[1:8:2]\n",
        "print(substring)"
      ],
      "metadata": {
        "colab": {
          "base_uri": "https://localhost:8080/"
        },
        "id": "mIgaU15d7i9C",
        "outputId": "d5f04ac1-caee-4244-a236-2d1f2aac6524"
      },
      "execution_count": null,
      "outputs": [
        {
          "output_type": "stream",
          "name": "stdout",
          "text": [
            "bdfh\n"
          ]
        }
      ]
    },
    {
      "cell_type": "code",
      "source": [
        "string =  \"abcdefg\"\n",
        "substring = string[-3:]\n",
        "print(substring)"
      ],
      "metadata": {
        "colab": {
          "base_uri": "https://localhost:8080/"
        },
        "id": "L7S841TO8kVZ",
        "outputId": "7ffef63a-5633-4f2a-df88-8189a34771a1"
      },
      "execution_count": null,
      "outputs": [
        {
          "output_type": "stream",
          "name": "stdout",
          "text": [
            "efg\n"
          ]
        }
      ]
    },
    {
      "cell_type": "code",
      "source": [
        "string = \"Data Science\"\n",
        "substring = string[-3:]\n",
        "print(substring)"
      ],
      "metadata": {
        "colab": {
          "base_uri": "https://localhost:8080/"
        },
        "id": "9vnmOnrD9Plc",
        "outputId": "44ae31f5-0c0f-4b27-c14b-15f01557c368"
      },
      "execution_count": null,
      "outputs": [
        {
          "output_type": "stream",
          "name": "stdout",
          "text": [
            "nce\n"
          ]
        }
      ]
    },
    {
      "cell_type": "code",
      "source": [
        "string = \"abcdefghij\"\n",
        "substring = string[1:10:2]\n",
        "print(substring)"
      ],
      "metadata": {
        "colab": {
          "base_uri": "https://localhost:8080/"
        },
        "id": "WOQoozEm9sjJ",
        "outputId": "21de6e55-9e83-499a-9611-38817b8bef22"
      },
      "execution_count": null,
      "outputs": [
        {
          "output_type": "stream",
          "name": "stdout",
          "text": [
            "bdfhj\n"
          ]
        }
      ]
    },
    {
      "cell_type": "code",
      "source": [
        "string = \"1234567890\"\n",
        "substring = string[0:10:2]\n",
        "print(substring)"
      ],
      "metadata": {
        "colab": {
          "base_uri": "https://localhost:8080/"
        },
        "id": "Iv-gGoO0-NaT",
        "outputId": "d9eeac8b-8179-4c78-eb3a-3765e59131e1"
      },
      "execution_count": null,
      "outputs": [
        {
          "output_type": "stream",
          "name": "stdout",
          "text": [
            "13579\n"
          ]
        }
      ]
    },
    {
      "cell_type": "code",
      "source": [
        "string =  \"Hello\"\n",
        "substring = string[::-1]\n",
        "print(substring)"
      ],
      "metadata": {
        "colab": {
          "base_uri": "https://localhost:8080/"
        },
        "id": "xfVfviz4-nLe",
        "outputId": "3993bbbb-6ff3-4c04-e407-be169af62e1d"
      },
      "execution_count": null,
      "outputs": [
        {
          "output_type": "stream",
          "name": "stdout",
          "text": [
            "olleH\n"
          ]
        }
      ]
    },
    {
      "cell_type": "code",
      "source": [
        "string = \"abcdefghijk\"\n",
        "substring = string[0:11:2]\n",
        "print(substring)"
      ],
      "metadata": {
        "colab": {
          "base_uri": "https://localhost:8080/"
        },
        "id": "NTZ2G9zl-9iW",
        "outputId": "1ecab7d4-86cd-4b3d-d79a-8f2d28d4841e"
      },
      "execution_count": null,
      "outputs": [
        {
          "output_type": "stream",
          "name": "stdout",
          "text": [
            "acegik\n"
          ]
        }
      ]
    },
    {
      "cell_type": "code",
      "source": [
        "List = [2, 3, 7, 5, 6]\n",
        "sum_of_elements = sum(List)\n",
        "print(sum_of_elements)"
      ],
      "metadata": {
        "colab": {
          "base_uri": "https://localhost:8080/"
        },
        "id": "wCQaDCoF_2U2",
        "outputId": "53ffba48-dc06-4138-e630-f3c1639f0a18"
      },
      "execution_count": 2,
      "outputs": [
        {
          "output_type": "stream",
          "name": "stdout",
          "text": [
            "23\n"
          ]
        }
      ]
    },
    {
      "cell_type": "code",
      "source": [
        "sentence = \"HELLO WORLD\"\n",
        "Length = len(sentence)\n",
        "print(Length)\n",
        "First_Half = sentence[:Length//2]\n",
        "print(First_Half)"
      ],
      "metadata": {
        "id": "jcej8nUsAkj9",
        "colab": {
          "base_uri": "https://localhost:8080/"
        },
        "outputId": "ca36aee7-720d-4ef9-f90b-79841d414c4b"
      },
      "execution_count": 1,
      "outputs": [
        {
          "output_type": "stream",
          "name": "stdout",
          "text": [
            "11\n",
            "HELLO\n"
          ]
        }
      ]
    },
    {
      "cell_type": "code",
      "source": [
        "tuple1 = (78, 45, 32, 19, 82, 77, 40, 39)\n",
        "list1 = list(tuple1)\n",
        "list1[2] = 100\n",
        "print(list1)\n"
      ],
      "metadata": {
        "colab": {
          "base_uri": "https://localhost:8080/"
        },
        "id": "u_zB7hJ3F4iN",
        "outputId": "95525ebc-304f-4886-af64-03c45a3e4965"
      },
      "execution_count": null,
      "outputs": [
        {
          "output_type": "stream",
          "name": "stdout",
          "text": [
            "[78, 45, 100, 19, 82, 77, 40, 39]\n"
          ]
        }
      ]
    },
    {
      "cell_type": "code",
      "source": [
        "\n",
        "listA=[19,32,10,55,31,32,94,29,10,65,77,40,40]\n",
        "listA.remove(32)\n",
        "listA = [i for i in listA if i != 40]\n",
        "\n",
        "listA[9] = 300\n",
        "listA.insert(2, 200)\n",
        "\n",
        "print(\"Final list:\", listA)\n",
        "print(\"Length:\", len(listA))\n",
        "print(\"Max value:\", max(listA))\n",
        "print(\"Sum of elements:\", sum(listA))\n",
        "\n",
        "\n",
        "\n"
      ],
      "metadata": {
        "colab": {
          "base_uri": "https://localhost:8080/"
        },
        "id": "qhHuGBhaG0kG",
        "outputId": "b3683d3b-2330-4f77-f0a7-0bbdc530cb97"
      },
      "execution_count": null,
      "outputs": [
        {
          "output_type": "stream",
          "name": "stdout",
          "text": [
            "Final list: [19, 10, 200, 55, 31, 32, 94, 29, 10, 65, 300]\n",
            "Length: 11\n",
            "Max value: 300\n",
            "Sum of elements: 845\n"
          ]
        }
      ]
    },
    {
      "cell_type": "code",
      "source": [
        "string = \"The day has been long\"\n",
        "modified_string = string[:4] + string[5:]\n",
        "print (modified_string)\n",
        "\n",
        "print((string + \" \") * 4)\n",
        "\n",
        "for _ in range(3):\n",
        "    print(string)\n",
        "\n",
        "string1 = string[:7] + 'A' + string[8:]\n",
        "print(string1)\n",
        "\n",
        "\n",
        "string2 = string[4:16]\n",
        "print(string2)\n",
        "\n",
        "print(len(string2))"
      ],
      "metadata": {
        "colab": {
          "base_uri": "https://localhost:8080/"
        },
        "id": "g95gEbVDKAeZ",
        "outputId": "9e4b4a6e-3f9a-46f3-b490-8eab2064039e"
      },
      "execution_count": null,
      "outputs": [
        {
          "output_type": "stream",
          "name": "stdout",
          "text": [
            "The ay has been long\n",
            "The day has been long The day has been long The day has been long The day has been long \n",
            "The day has been long\n",
            "The day has been long\n",
            "The day has been long\n",
            "The dayAhas been long\n",
            "day has been\n",
            "12\n"
          ]
        }
      ]
    },
    {
      "cell_type": "code",
      "source": [],
      "metadata": {
        "id": "HjVR3UQ54gYf"
      },
      "execution_count": null,
      "outputs": []
    }
  ]
}